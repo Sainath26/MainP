{
 "cells": [
  {
   "cell_type": "code",
   "execution_count": 35,
   "id": "35b2049e",
   "metadata": {},
   "outputs": [],
   "source": [
    "import requests\n",
    "import bs4 as bs\n",
    "from nsetools import Nse\n",
    "\n",
    "\n",
    "\n",
    "\n",
    "\n",
    "\n",
    "\n",
    "\n",
    "\n",
    "\n",
    "\n",
    "\n"
   ]
  },
  {
   "cell_type": "code",
   "execution_count": 36,
   "id": "922af88d",
   "metadata": {},
   "outputs": [],
   "source": [
    "def nifty_50_list():\n",
    "    resp = requests.get('https://en.wikipedia.org/wiki/NIFTY_50')\n",
    "    soup = bs.BeautifulSoup(resp.text, 'lxml')\n",
    "    \n",
    "nifty_50_list()\n",
    "\n",
    "    \n",
    "    \n"
   ]
  },
  {
   "cell_type": "code",
   "execution_count": 37,
   "id": "d3557031",
   "metadata": {},
   "outputs": [],
   "source": [
    "def Get_NIFTY50():\n",
    "    resp = requests.get('https://en.wikipedia.org/wiki/NIFTY_50')\n",
    "    soup = bs.BeautifulSoup(resp.text, 'lxml')\n",
    "        #Goto wiki page and do inspect element\n",
    "        # Find all the table tags whose class is wikitable sortable, insie that there is 'tbody' tag\n",
    "        # and extract all the data from there \n",
    "    table = soup.find('table', {'class': 'wikitable sortable'},'tbody')\n",
    "\n",
    "    tickers = []\n",
    "    TICKER = []\n",
    "    for row in table.findAll('tr')[1:]: # 0th <tr> tag contains Company,Sysmbol,Sector.. Not needed\n",
    "        ticker = row.findAll('td')[1].text  #First <td> tag data\n",
    "        TICKER.append(ticker.split('.')[0])\n",
    "\n",
    "Get_NIFTY50()"
   ]
  },
  {
   "cell_type": "code",
   "execution_count": 38,
   "id": "65c67c7d",
   "metadata": {},
   "outputs": [
    {
     "name": "stdout",
     "output_type": "stream",
     "text": [
      "ADANIPORTS   :   725.15\n",
      "ASIANPAINT   :   3235.0\n",
      "AXISBANK   :   797.15\n",
      "BAJAJ-AUTO   :   3564.95\n",
      "BAJFINANCE   :   7148.0\n",
      "BAJAJFINSV   :   16160.0\n",
      "BHARTIARTL   :   719.0\n",
      "BPCL   :   376.3\n",
      "BRITANNIA   :   3559.0\n",
      "CIPLA   :   946.45\n",
      "COALINDIA   :   160.3\n",
      "DIVISLAB   :   4303.0\n",
      "DRREDDY   :   4345.0\n",
      "EICHERMOT   :   2629.0\n",
      "GRASIM   :   1739.0\n",
      "HCLTECH   :   1163.5\n",
      "HDFC   :   2502.0\n",
      "HDFCBANK   :   1521.1\n",
      "HDFCLIFE   :   624.95\n",
      "HEROMOTOCO   :   2719.0\n",
      "HINDALCO   :   525.2\n",
      "HINDUNILVR   :   2309.0\n",
      "ICICIBANK   :   803.5\n",
      "INDUSINDBK   :   954.7\n",
      "INFY   :   1740.0\n",
      "IOC   :   124.35\n",
      "ITC   :   233.6\n",
      "JSWSTEEL   :   657.0\n",
      "KOTAKBANK   :   1884.0\n",
      "LT   :   1945.0\n",
      "M&M   :   839.75\n",
      "MARUTI   :   8534.1\n",
      "NESTLEIND   :   18365.0\n",
      "NTPC   :   134.2\n",
      "ONGC   :   169.65\n",
      "POWERGRID   :   209.45\n",
      "RELIANCE   :   2330.5\n",
      "SBIN   :   529.45\n",
      "SBILIFE   :   1170.0\n",
      "SHREECEM   :   24710.0\n",
      "SUNPHARMA   :   893.45\n",
      "TATAMOTORS   :   500.5\n",
      "TATASTEEL   :   1174.4\n",
      "TCS   :   3818.0\n",
      "TATACONSUM   :   732.5\n",
      "TECHM   :   1448.0\n",
      "TITAN   :   2465.0\n",
      "ULTRACEMCO   :   7425.0\n",
      "UPL   :   766.15\n",
      "WIPRO   :   573.0\n"
     ]
    }
   ],
   "source": [
    "# creating a Nse object\n",
    "nse = Nse()\n",
    "\n",
    "\n",
    "\n",
    "for j in range(len(TICKER)):\n",
    "    code = TICKER[j]\n",
    "    quote = nse.get_quote(code)\n",
    "    value = quote['lastPrice']\n",
    "    print(TICKER[j],end=\"   \")\n",
    "    print(\":\",end=\"   \")\n",
    "    print(value)"
   ]
  },
  {
   "cell_type": "code",
   "execution_count": null,
   "id": "aa50073f",
   "metadata": {},
   "outputs": [],
   "source": []
  }
 ],
 "metadata": {
  "kernelspec": {
   "display_name": "Python 3 (ipykernel)",
   "language": "python",
   "name": "python3"
  },
  "language_info": {
   "codemirror_mode": {
    "name": "ipython",
    "version": 3
   },
   "file_extension": ".py",
   "mimetype": "text/x-python",
   "name": "python",
   "nbconvert_exporter": "python",
   "pygments_lexer": "ipython3",
   "version": "3.9.7"
  }
 },
 "nbformat": 4,
 "nbformat_minor": 5
}
